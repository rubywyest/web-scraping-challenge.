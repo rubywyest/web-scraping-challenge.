{
 "cells": [
  {
   "cell_type": "markdown",
   "metadata": {},
   "source": [
    "# Beautiful Soup + MongoDB"
   ]
  },
  {
   "cell_type": "markdown",
   "metadata": {},
   "source": [
    "### Import dependencies"
   ]
  },
  {
   "cell_type": "code",
   "execution_count": 14,
   "metadata": {},
   "outputs": [],
   "source": [
    "from bs4 import BeautifulSoup\n",
    "import requests\n",
    "import pymongo\n",
    "from splinter import Browser"
   ]
  },
  {
   "cell_type": "code",
   "execution_count": 15,
   "metadata": {},
   "outputs": [],
   "source": [
    "#pip install pymongo#3"
   ]
  },
  {
   "cell_type": "markdown",
   "metadata": {},
   "source": [
    "### Initialize PyMongo to work with MongoDBs"
   ]
  },
  {
   "cell_type": "code",
   "execution_count": 16,
   "metadata": {},
   "outputs": [],
   "source": [
    "conn = 'mongodb://localhost:27017'\n",
    "client = pymongo.MongoClient(conn)"
   ]
  },
  {
   "cell_type": "markdown",
   "metadata": {},
   "source": [
    "### Define database and collection"
   ]
  },
  {
   "cell_type": "code",
   "execution_count": 17,
   "metadata": {},
   "outputs": [],
   "source": [
    "db = client.mars_db\n",
    "collection = db.news"
   ]
  },
  {
   "cell_type": "code",
   "execution_count": 18,
   "metadata": {},
   "outputs": [],
   "source": [
    "executable_path = {'executable_path': 'chromedriver.exe'}\n",
    "browser = Browser('chrome', **executable_path, headless=False)"
   ]
  },
  {
   "cell_type": "markdown",
   "metadata": {},
   "source": [
    "### Scrape a webpage and create a BeautifulSoup object from the results\n"
   ]
  },
  {
   "cell_type": "code",
   "execution_count": 19,
   "metadata": {},
   "outputs": [],
   "source": [
    "url = 'https://mars.nasa.gov/news'\n",
    "browser.visit(url)"
   ]
  },
  {
   "cell_type": "markdown",
   "metadata": {},
   "source": [
    "### Examine the results, then input results containing desired info into MongoDB collection"
   ]
  },
  {
   "cell_type": "code",
   "execution_count": 20,
   "metadata": {
    "scrolled": true
   },
   "outputs": [
    {
     "name": "stdout",
     "output_type": "stream",
     "text": [
      "------------- Page - 1\n",
      "news_date =  January 13, 2020\n",
      "news_title = NASA's Mars 2020 Rover Closer to Getting Its Name\n",
      "news_p = 155 students from across the U.S. have been chosen as semifinalists in NASA's essay contest to name the Mars 2020 rover, and see it launch from Cape Canaveral this July.\n",
      "------------- Page - 1\n",
      "news_date =  December 27, 2019\n",
      "news_title = Media Get a Close-Up of NASA's Mars 2020 Rover\n",
      "news_p = The clean room at NASA's Jet Propulsion Laboratory was open to the media to see NASA's next Mars explorer before it leaves for Florida in preparation for a summertime launch.\n",
      "------------- Page - 1\n",
      "news_date =  December 23, 2019\n",
      "news_title = Space History Is Made in This NASA Robot Factory\n",
      "news_p = From rockets to rovers, JPL's Spacecraft Assembly Facility has been at the center of robotic spaceflight. Here's a closer look at what makes it so special.\n",
      "------------- Page - 1\n",
      "news_date =  December 18, 2019\n",
      "news_title = NASA's Mars 2020 Rover Completes Its First Drive\n",
      "news_p = In a 10-plus-hour marathon, the rover steered, turned and drove in 3-foot (1-meter) increments over small ramps.\n",
      "------------- Page - 1\n",
      "news_date =  December 10, 2019\n",
      "news_title = NASA's Treasure Map for Water Ice on Mars\n",
      "news_p = A new study identifies frozen water just below the Martian surface, where astronauts could easily dig it up.\n",
      "------------- Page - 1\n",
      "news_date =  December 10, 2019\n",
      "news_title = Two Rovers to Roll on Mars Again: Curiosity and Mars 2020\n",
      "news_p = They look like twins. But under the hood, the rover currently exploring the Red Planet and the one launching there this summer have distinct science tools and roles to play.\n",
      "------------- Page - 1\n",
      "news_date =  November 27, 2019\n",
      "news_title = NASA's Briefcase-Size MarCO Satellite Picks Up Honors\n",
      "news_p = The twin spacecraft, the first of their kind to fly into deep space, earn a Laureate from Aviation Week & Space Technology.\n",
      "------------- Page - 1\n",
      "news_date =  November 26, 2019\n",
      "news_title = Global Storms on Mars Launch Dust Towers Into the Sky\n",
      "news_p = A Mars Dust Tower Stands Out Dust storms are common on Mars. But every decade or so, something unpredictable happens: a series of runaway storms break out, covering the entire planet in a dusty haze.\n",
      "------------- Page - 1\n",
      "news_date =  November 21, 2019\n",
      "news_title = NASA Updates Mars 2020 Mission Environmental Review\n",
      "news_p = NASA and the Department of Energy have completed a more detailed risk analysis for the Mars 2020 rover launch from Florida.\n",
      "------------- Page - 1\n",
      "news_date =  November 20, 2019\n",
      "news_title = Two of a Space Kind: Apollo 12 and Mars 2020\n",
      "news_p = Apollo 12 and the upcoming Mars 2020 mission may be separated by half a century, but they share several goals unique in the annals of space exploration.\n",
      "------------- Page - 1\n",
      "news_date =  November 15, 2019\n",
      "news_title = Mars Scientists Investigate Ancient Life in Australia\n",
      "news_p = Teams with NASA's Mars 2020 and ESA's ExoMars practiced hunting for fossilized microbial life in the Australian Outback in preparation for their Red Planet missions. \n",
      "------------- Page - 1\n",
      "news_date =  November 12, 2019\n",
      "news_title = NASA's Mars 2020 Will Hunt for Microscopic Fossils\n",
      "news_p = A new paper identifies a ring of minerals at the rover's landing site that are ideal for fossilizing microbial life.\n",
      "------------- Page - 1\n",
      "news_date =  November 12, 2019\n",
      "news_title = With Mars Methane Mystery Unsolved, Curiosity Serves Scientists a New One: Oxygen\n",
      "news_p = For the first time in the history of space exploration, scientists have measured the seasonal changes in the gases that fill the air directly above the surface of Gale Crater on Mars. \n",
      "------------- Page - 1\n",
      "news_date =  November  7, 2019\n",
      "news_title = NASA's Mars 2020 Heads Into the Test Chamber\n",
      "news_p = In this time-lapse video taken at JPL, engineers move the Mars 2020 rover into a large vacuum chamber for testing in Mars-like environmental conditions.\n",
      "------------- Page - 1\n",
      "news_date =  November  7, 2019\n",
      "news_title = Screening Soon: 'The Pathfinders' Trains Lens on Mars\n",
      "news_p = With the Mars 2020 mission ramping up, the documentary — the first of four about past JPL missions to the Red Planet to be shown at Caltech — tells a gripping backstory.\n",
      "------------- Page - 1\n",
      "news_date =  November  6, 2019\n",
      "news_title = InSight's 'Mole' Team Peers into the Pit\n",
      "news_p = Efforts to save the heat probe continue.\n",
      "------------- Page - 1\n",
      "news_date =  November  6, 2019\n",
      "news_title = Common Questions about InSight's 'Mole'\n",
      "news_p = There's a new plan to get InSight's \"mole\" moving again. The following Q&As with two members of the team answer some of the most common questions about the burrowing device, part of a science instrument called the Heat Flow and Physical Properties Package (HP3).\n",
      "------------- Page - 1\n",
      "news_date =  October 24, 2019\n",
      "news_title = Mars 2020 Stands on Its Own Six Wheels\n",
      "news_p = In time-lapse video, taken at JPL, captures the first time NASA's Mars 2020 rover carries its full weight on its legs and wheels.\n",
      "------------- Page - 1\n",
      "news_date =  October 24, 2019\n",
      "news_title = New Selfie Shows Curiosity, the Mars Chemist\n",
      "news_p = The NASA rover performed a special chemistry experiment at the location captured in its newest self-portrait.\n",
      "------------- Page - 1\n",
      "news_date =  October 22, 2019\n",
      "news_title = Naming a NASA Mars Rover Can Change Your Life\n",
      "news_p = Want to name the robotic scientist NASA is sending to Mars in 2020? The student who named Curiosity — the rover currently exploring Mars — will tell you this is an opportunity worth taking.\n",
      "------------- Page - 1\n",
      "news_date =  October 18, 2019\n",
      "news_title = Mars 2020 Unwrapped and Ready for More Testing\n",
      "news_p = In time-lapse video, bunny-suited engineers remove the inner layer of protective foil on NASA's Mars 2020 rover after it was relocated for testing.\n",
      "------------- Page - 1\n",
      "news_date =  October 16, 2019\n",
      "news_title = HiRISE Views NASA's InSight and Curiosity on Mars\n",
      "news_p = New images taken from space offer the clearest orbital glimpse yet of InSight as well as a view of Curiosity rolling along.\n",
      "------------- Page - 1\n",
      "news_date =  October  7, 2019\n",
      "news_title = NASA's Curiosity Rover Finds an Ancient Oasis on Mars\n",
      "news_p = New evidence suggests salty, shallow ponds once dotted a Martian crater — a sign of the planet's drying climate.\n",
      "------------- Page - 1\n",
      "news_date =  October  4, 2019\n",
      "news_title = NASA's Mars 2020 Rover Tests Descent-Stage Separation\n",
      "news_p = A crane lifts the rocket-powered descent stage away from NASA's Mars 2020 rover after technicians tested the pyrotechnic charges that separate the two spacecraft.\n",
      "------------- Page - 1\n",
      "news_date =  October  3, 2019\n",
      "news_title = NASA's Push to Save the Mars InSight Lander's Heat Probe\n",
      "news_p = The scoop on the end of the spacecraft's robotic arm will be used to 'pin' the mole against the wall of its hole.\n",
      "------------- Page - 1\n",
      "news_date =  October  1, 2019\n",
      "news_title = NASA's InSight 'Hears' Peculiar Sounds on Mars\n",
      "news_p = Listen to the marsquakes and other, less-expected sounds that the Mars lander has been detecting.\n",
      "------------- Page - 1\n",
      "news_date =  September 23, 2019\n",
      "news_title = NASA Mars Mission Connects With Bosnian and Herzegovinian Town\n",
      "news_p = A letter from NASA was presented to the mayor of Jezero, Bosnia-Herzegovina, honoring the connection between the town and Jezero Crater, the Mars 2020 rover landing site.\n",
      "------------- Page - 1\n",
      "news_date =  September 18, 2019\n",
      "news_title = Deadline Closing for Names to Fly on NASA's Next Mars Rover\n",
      "news_p = You have until Sept. 30 to send your names to Mars aboard the Mars 2020 rover. \n",
      "------------- Page - 1\n",
      "news_date =  September 16, 2019\n",
      "news_title = NASA Wins Two Emmy Awards for Interactive Mission Coverage\n",
      "news_p = NASA-JPL's coverage of the Mars InSight landing earns one of the two wins, making this the NASA center's second Emmy.\n",
      "------------- Page - 1\n",
      "news_date =  September 12, 2019\n",
      "news_title = NASA's Mars 2020 Comes Full Circle\n",
      "news_p = Aiming to pinpoint the Martian vehicle's center of gravity, engineers took NASA's 2,300-pound Mars 2020 rover for a spin in the clean room at JPL. \n",
      "------------- Page - 1\n",
      "news_date =  August 28, 2019\n",
      "news_title = NASA Invites Students to Name Mars 2020 Rover\n",
      "news_p = Through Nov. 1, K-12 students in the U.S. are encouraged to enter an essay contest to name NASA's next Mars rover.\n",
      "------------- Page - 1\n",
      "news_date =  August 28, 2019\n",
      "news_title = NASA's Mars Helicopter Attached to Mars 2020 Rover \n",
      "news_p = The helicopter will be first aircraft to perform flight tests on another planet.\n",
      "------------- Page - 1\n",
      "news_date =  August 23, 2019\n",
      "news_title = What's Mars Solar Conjunction, and Why Does It Matter?\n",
      "news_p = NASA spacecraft at Mars are going to be on their own for a few weeks when the Sun comes between Mars and Earth, interrupting communications.\n",
      "------------- Page - 1\n",
      "news_date =  August 23, 2019\n",
      "news_title = Scientists Explore Outback as Testbed for Mars \n",
      "news_p = Australia provides a great place for NASA's Mars 2020 and the ESA-Roscosmos ExoMars scientists to hone techniques in preparation for searching for signs ancient life on Mars.\n"
     ]
    },
    {
     "name": "stdout",
     "output_type": "stream",
     "text": [
      "------------- Page - 1\n",
      "news_date =  August 22, 2019\n",
      "news_title = NASA-JPL Names 'Rolling Stones Rock' on Mars\n",
      "news_p = NASA's Mars InSight mission honored one of the biggest bands of all time at Pasadena concert.\n",
      "------------- Page - 1\n",
      "news_date =  August 15, 2019\n",
      "news_title = Robotic Toolkit Added to NASA's Mars 2020 Rover\n",
      "news_p = The bit carousel, which lies at the heart of the rover's Sample Caching System, is now aboard NASA's newest rover. \n",
      "------------- Page - 1\n",
      "news_date =  August 13, 2019\n",
      "news_title = Space Samples Link NASA's Apollo 11 and Mars 2020\n",
      "news_p = While separated by half a century, NASA's Apollo 11 and Mars 2020 missions share the same historic goal: returning samples to Earth.\n",
      "------------- Page - 1\n",
      "news_date =  August  9, 2019\n",
      "news_title = Small Satellite Mission of the Year\n",
      "news_p = The first interplanetary CubeSats were recognized by the engineering community with the 2019 Small Satellite Mission of the Year award.\n",
      "------------- Page - 1\n",
      "news_date =  August  5, 2019\n",
      "news_title = NASA 'Optometrists' Verify Mars 2020 Rover's 20/20 Vision\n",
      "news_p = Mars 2020 rover underwent an eye exam after several cameras were installed on the rover.\n",
      "------------- Page - 1\n",
      "news_date =  August  5, 2019\n",
      "news_title = New Finds for Mars Rover, Seven Years After Landing\n",
      "news_p = NASA's Curiosity rover is discovering odd rocks halfway into a region called the \"clay-bearing unit.\"\n",
      "'NoneType' object has no attribute 'text'\n",
      "'NoneType' object has no attribute 'text'\n",
      "'NoneType' object has no attribute 'text'\n",
      "'NoneType' object has no attribute 'text'\n",
      "'NoneType' object has no attribute 'text'\n",
      "'NoneType' object has no attribute 'text'\n",
      "'NoneType' object has no attribute 'text'\n",
      "'NoneType' object has no attribute 'text'\n",
      "'NoneType' object has no attribute 'text'\n",
      "'NoneType' object has no attribute 'text'\n"
     ]
    },
    {
     "name": "stderr",
     "output_type": "stream",
     "text": [
      "C:\\ProgramData\\Anaconda3\\lib\\site-packages\\splinter\\driver\\webdriver\\__init__.py:512: FutureWarning: browser.find_link_by_href is deprecated. Use browser.links.find_by_href instead.\n",
      "  FutureWarning,\n"
     ]
    }
   ],
   "source": [
    "collection.drop()\n",
    "\n",
    "for x in range(1, 2):\n",
    "    # Splinter can capture a page's underlying html and use pass it to BeautifulSoup to allow us to scrape the content\n",
    "    html = browser.html\n",
    "    soup = BeautifulSoup(html, 'html.parser')\n",
    "\n",
    "    # Using BS, we can execute standard functions to capture the page's content\n",
    "    results = soup.find_all('div', class_='image_and_description_container')\n",
    "  \n",
    "    # The below loop will print out the current page number and the quote's text\n",
    "    for result in results:\n",
    "#        print(result.text)\n",
    "        try:\n",
    "            # Identify and return title of listing\n",
    "            date = result.find('div', class_='list_date').text\n",
    "            title = result.find('div', class_='content_title').text\n",
    "            article = result.find('div', class_='article_teaser_body').text\n",
    "        \n",
    "            # Run only if title, article content \n",
    "            if (title and article):\n",
    "                # Print results\n",
    "                print('------------- Page -', x)\n",
    "                print('news_date = ', date)\n",
    "                print('news_title =', title)\n",
    "                print('news_p =',article)\n",
    "\n",
    "                # Dictionary to be inserted as a MongoDB document\n",
    "                post = {\n",
    "                    'news_date': date,\n",
    "                    'news_title': title,\n",
    "                    'news_p': article,\n",
    "                }\n",
    "                # Insert result into collection\n",
    "                collection.insert_one(post)\n",
    "\n",
    "        except Exception as e:\n",
    "              print(e)\n",
    "try:\n",
    "    browser.click_link_by_href('#')    \n",
    "except Exception as e:\n",
    "    x = 10\n",
    "    print(e)    \n"
   ]
  },
  {
   "cell_type": "markdown",
   "metadata": {},
   "source": [
    "## JPL Mars Space Images - Featured Image"
   ]
  },
  {
   "cell_type": "code",
   "execution_count": 21,
   "metadata": {},
   "outputs": [],
   "source": [
    "db = client.mars_db\n",
    "collection = db.figure"
   ]
  },
  {
   "cell_type": "code",
   "execution_count": 22,
   "metadata": {
    "scrolled": false
   },
   "outputs": [
    {
     "name": "stderr",
     "output_type": "stream",
     "text": [
      "C:\\ProgramData\\Anaconda3\\lib\\site-packages\\splinter\\driver\\webdriver\\__init__.py:528: FutureWarning: browser.find_link_by_partial_text is deprecated. Use browser.links.find_by_partial_text instead.\n",
      "  FutureWarning,\n"
     ]
    }
   ],
   "source": [
    "url = 'https://www.jpl.nasa.gov/spaceimages/?search=&category=Mars'\n",
    "browser.visit(url)\n",
    "browser.click_link_by_partial_text('FULL IMAGE')    \n",
    "browser.click_link_by_partial_text('more info')    \n",
    "     \n"
   ]
  },
  {
   "cell_type": "code",
   "execution_count": 23,
   "metadata": {},
   "outputs": [],
   "source": [
    "html = browser.html\n",
    "soup = BeautifulSoup(html, 'html.parser')\n"
   ]
  },
  {
   "cell_type": "code",
   "execution_count": 24,
   "metadata": {},
   "outputs": [
    {
     "name": "stdout",
     "output_type": "stream",
     "text": [
      "[<figure class=\"lede\">\n",
      "<a href=\"/spaceimages/images/largesize/PIA16694_hires.jpg\"><img alt=\"NASA's Kepler mission compares artist's concepts of the planets in the Kepler-37 system to the moon and planets in the solar system. The smallest planet, Kepler-37b, is slightly larger than our moon.\" class=\"main_image\" src=\"/spaceimages/images/largesize/PIA16694_hires.jpg\" title=\"NASA's Kepler mission compares artist's concepts of the planets in the Kepler-37 system to the moon and planets in the solar system. The smallest planet, Kepler-37b, is slightly larger than our moon.\"/></a>\n",
      "</figure>]\n"
     ]
    }
   ],
   "source": [
    "results = soup.find_all('figure', class_='lede')\n",
    "print(results)"
   ]
  },
  {
   "cell_type": "code",
   "execution_count": 25,
   "metadata": {
    "scrolled": true
   },
   "outputs": [
    {
     "name": "stdout",
     "output_type": "stream",
     "text": [
      "featured_image_url =  https://www.jpl.nasa.gov/spaceimages/images/largesize/PIA16694_hires.jpg\n"
     ]
    }
   ],
   "source": [
    "for result in results:\n",
    "#        print(result.text)\n",
    "        try:\n",
    "            # Identify and return title of listing\n",
    "            featured_image_url = 'https://www.jpl.nasa.gov' + result.find('a')['href']\n",
    "            print(f'featured_image_url = ', featured_image_url)\n",
    "            post = {\n",
    "                'featured_image_url': featured_image_url\n",
    "            }\n",
    "            # Insert result into collection\n",
    "            collection.insert_one(post)\n",
    "\n",
    "        except Exception as e:\n",
    "              print(e)"
   ]
  },
  {
   "cell_type": "markdown",
   "metadata": {},
   "source": [
    "## Mars Weather"
   ]
  },
  {
   "cell_type": "code",
   "execution_count": 26,
   "metadata": {},
   "outputs": [],
   "source": [
    "db = client.mars_db\n",
    "collection = db.weather"
   ]
  },
  {
   "cell_type": "code",
   "execution_count": 27,
   "metadata": {},
   "outputs": [],
   "source": [
    "url = 'https://twitter.com/marswxreport?lang=en'\n",
    "browser.visit(url)\n"
   ]
  },
  {
   "cell_type": "code",
   "execution_count": 28,
   "metadata": {},
   "outputs": [],
   "source": [
    "html = browser.html\n",
    "soup = BeautifulSoup(html, 'html.parser')"
   ]
  },
  {
   "cell_type": "code",
   "execution_count": 29,
   "metadata": {},
   "outputs": [
    {
     "name": "stdout",
     "output_type": "stream",
     "text": [
      "<div class=\"js-tweet-text-container\">\n",
      "<p class=\"TweetTextSize TweetTextSize--normal js-tweet-text tweet-text\" data-aria-label-part=\"0\" lang=\"en\">InSight sol 404 (2020-01-15) low -99.5ºC (-147.1ºF) high -16.8ºC (1.7ºF)\n",
      "winds from the SSW at 5.2 m/s (11.7 mph) gusting to 19.8 m/s (44.2 mph)\n",
      "pressure at 6.40 hPa<a class=\"twitter-timeline-link u-hidden\" data-pre-embedded=\"true\" dir=\"ltr\" href=\"https://t.co/fX6vAdxuSZ\">pic.twitter.com/fX6vAdxuSZ</a></p>\n",
      "</div>\n"
     ]
    }
   ],
   "source": [
    "results = soup.find_all('div', class_='js-tweet-text-container')\n",
    "print(results[0])"
   ]
  },
  {
   "cell_type": "code",
   "execution_count": 30,
   "metadata": {},
   "outputs": [
    {
     "name": "stdout",
     "output_type": "stream",
     "text": [
      "mars_weather =  InSight sol 404 (2020-01-15) low -99.5ºC (-147.1ºF) high -16.8ºC (1.7ºF)\n",
      "winds from the SSW at 5.2 m/s (11.7 mph) gusting to 19.8 m/s (44.2 mph)\n",
      "pressure at 6.40 hPa\n"
     ]
    }
   ],
   "source": [
    "#for result:\n",
    "\n",
    "try:\n",
    "    # Identify and return title of listing\n",
    "    fulltext = results[0].find('p', class_='TweetTextSize').text\n",
    "    atext = results[0].find('a').text\n",
    "    weather = fulltext.replace(atext, '')\n",
    "    print(f'mars_weather = ', weather)\n",
    "    post = {\n",
    "            'mars_weather': weather\n",
    "    }\n",
    "    # Insert result into collection\n",
    "    collection.insert_one(post)\n",
    "except Exception as e:\n",
    "      print(e)"
   ]
  },
  {
   "cell_type": "markdown",
   "metadata": {},
   "source": [
    "## Mars Facts"
   ]
  },
  {
   "cell_type": "code",
   "execution_count": 31,
   "metadata": {},
   "outputs": [],
   "source": [
    "import pandas as pd"
   ]
  },
  {
   "cell_type": "code",
   "execution_count": 32,
   "metadata": {},
   "outputs": [],
   "source": [
    "url = 'https://space-facts.com/mars/'"
   ]
  },
  {
   "cell_type": "code",
   "execution_count": 33,
   "metadata": {},
   "outputs": [
    {
     "data": {
      "text/plain": [
       "3"
      ]
     },
     "execution_count": 33,
     "metadata": {},
     "output_type": "execute_result"
    }
   ],
   "source": [
    "tables = pd.read_html(url)\n",
    "len(tables)"
   ]
  },
  {
   "cell_type": "code",
   "execution_count": 34,
   "metadata": {},
   "outputs": [
    {
     "name": "stdout",
     "output_type": "stream",
     "text": [
      "<class 'list'>\n",
      "<class 'pandas.core.frame.DataFrame'>\n"
     ]
    }
   ],
   "source": [
    "print(type(tables))\n",
    "print(type(tables[0]))"
   ]
  },
  {
   "cell_type": "code",
   "execution_count": 35,
   "metadata": {},
   "outputs": [
    {
     "data": {
      "text/html": [
       "<div>\n",
       "<style scoped>\n",
       "    .dataframe tbody tr th:only-of-type {\n",
       "        vertical-align: middle;\n",
       "    }\n",
       "\n",
       "    .dataframe tbody tr th {\n",
       "        vertical-align: top;\n",
       "    }\n",
       "\n",
       "    .dataframe thead th {\n",
       "        text-align: right;\n",
       "    }\n",
       "</style>\n",
       "<table border=\"1\" class=\"dataframe\">\n",
       "  <thead>\n",
       "    <tr style=\"text-align: right;\">\n",
       "      <th></th>\n",
       "      <th>0</th>\n",
       "      <th>1</th>\n",
       "    </tr>\n",
       "  </thead>\n",
       "  <tbody>\n",
       "    <tr>\n",
       "      <td>0</td>\n",
       "      <td>Equatorial Diameter:</td>\n",
       "      <td>6,792 km</td>\n",
       "    </tr>\n",
       "    <tr>\n",
       "      <td>1</td>\n",
       "      <td>Polar Diameter:</td>\n",
       "      <td>6,752 km</td>\n",
       "    </tr>\n",
       "    <tr>\n",
       "      <td>2</td>\n",
       "      <td>Mass:</td>\n",
       "      <td>6.39 × 10^23 kg (0.11 Earths)</td>\n",
       "    </tr>\n",
       "    <tr>\n",
       "      <td>3</td>\n",
       "      <td>Moons:</td>\n",
       "      <td>2 (Phobos &amp; Deimos)</td>\n",
       "    </tr>\n",
       "    <tr>\n",
       "      <td>4</td>\n",
       "      <td>Orbit Distance:</td>\n",
       "      <td>227,943,824 km (1.38 AU)</td>\n",
       "    </tr>\n",
       "  </tbody>\n",
       "</table>\n",
       "</div>"
      ],
      "text/plain": [
       "                      0                              1\n",
       "0  Equatorial Diameter:                       6,792 km\n",
       "1       Polar Diameter:                       6,752 km\n",
       "2                 Mass:  6.39 × 10^23 kg (0.11 Earths)\n",
       "3                Moons:            2 (Phobos & Deimos)\n",
       "4       Orbit Distance:       227,943,824 km (1.38 AU)"
      ]
     },
     "execution_count": 35,
     "metadata": {},
     "output_type": "execute_result"
    }
   ],
   "source": [
    "df = tables[0]\n",
    "df.head()"
   ]
  },
  {
   "cell_type": "code",
   "execution_count": 36,
   "metadata": {},
   "outputs": [
    {
     "data": {
      "text/plain": [
       "'<table border=\"1\" class=\"dataframe\">\\n  <thead>\\n    <tr style=\"text-align: right;\">\\n      <th>0</th>\\n      <th>1</th>\\n    </tr>\\n  </thead>\\n  <tbody>\\n    <tr>\\n      <td>Equatorial Diameter:</td>\\n      <td>6,792 km</td>\\n    </tr>\\n    <tr>\\n      <td>Polar Diameter:</td>\\n      <td>6,752 km</td>\\n    </tr>\\n    <tr>\\n      <td>Mass:</td>\\n      <td>6.39 × 10^23 kg (0.11 Earths)</td>\\n    </tr>\\n    <tr>\\n      <td>Moons:</td>\\n      <td>2 (Phobos &amp; Deimos)</td>\\n    </tr>\\n    <tr>\\n      <td>Orbit Distance:</td>\\n      <td>227,943,824 km (1.38 AU)</td>\\n    </tr>\\n    <tr>\\n      <td>Orbit Period:</td>\\n      <td>687 days (1.9 years)</td>\\n    </tr>\\n    <tr>\\n      <td>Surface Temperature:</td>\\n      <td>-87 to -5 °C</td>\\n    </tr>\\n    <tr>\\n      <td>First Record:</td>\\n      <td>2nd millennium BC</td>\\n    </tr>\\n    <tr>\\n      <td>Recorded By:</td>\\n      <td>Egyptian astronomers</td>\\n    </tr>\\n  </tbody>\\n</table>'"
      ]
     },
     "execution_count": 36,
     "metadata": {},
     "output_type": "execute_result"
    }
   ],
   "source": [
    "html_table = df.to_html(index=False)\n",
    "html_table"
   ]
  },
  {
   "cell_type": "code",
   "execution_count": 37,
   "metadata": {},
   "outputs": [
    {
     "data": {
      "text/plain": [
       "'<table border=\"1\" class=\"dataframe\">  <thead>    <tr style=\"text-align: right;\">      <th>0</th>      <th>1</th>    </tr>  </thead>  <tbody>    <tr>      <td>Equatorial Diameter:</td>      <td>6,792 km</td>    </tr>    <tr>      <td>Polar Diameter:</td>      <td>6,752 km</td>    </tr>    <tr>      <td>Mass:</td>      <td>6.39 × 10^23 kg (0.11 Earths)</td>    </tr>    <tr>      <td>Moons:</td>      <td>2 (Phobos &amp; Deimos)</td>    </tr>    <tr>      <td>Orbit Distance:</td>      <td>227,943,824 km (1.38 AU)</td>    </tr>    <tr>      <td>Orbit Period:</td>      <td>687 days (1.9 years)</td>    </tr>    <tr>      <td>Surface Temperature:</td>      <td>-87 to -5 °C</td>    </tr>    <tr>      <td>First Record:</td>      <td>2nd millennium BC</td>    </tr>    <tr>      <td>Recorded By:</td>      <td>Egyptian astronomers</td>    </tr>  </tbody></table>'"
      ]
     },
     "execution_count": 37,
     "metadata": {},
     "output_type": "execute_result"
    }
   ],
   "source": [
    "html_table.replace('\\n', '')"
   ]
  },
  {
   "cell_type": "code",
   "execution_count": 38,
   "metadata": {},
   "outputs": [
    {
     "data": {
      "text/html": [
       "<div>\n",
       "<style scoped>\n",
       "    .dataframe tbody tr th:only-of-type {\n",
       "        vertical-align: middle;\n",
       "    }\n",
       "\n",
       "    .dataframe tbody tr th {\n",
       "        vertical-align: top;\n",
       "    }\n",
       "\n",
       "    .dataframe thead th {\n",
       "        text-align: right;\n",
       "    }\n",
       "</style>\n",
       "<table border=\"1\" class=\"dataframe\">\n",
       "  <thead>\n",
       "    <tr style=\"text-align: right;\">\n",
       "      <th></th>\n",
       "      <th>Mars</th>\n",
       "      <th>Value</th>\n",
       "    </tr>\n",
       "  </thead>\n",
       "  <tbody>\n",
       "    <tr>\n",
       "      <td>0</td>\n",
       "      <td>Equatorial Diameter:</td>\n",
       "      <td>6,792 km</td>\n",
       "    </tr>\n",
       "    <tr>\n",
       "      <td>1</td>\n",
       "      <td>Polar Diameter:</td>\n",
       "      <td>6,752 km</td>\n",
       "    </tr>\n",
       "    <tr>\n",
       "      <td>2</td>\n",
       "      <td>Mass:</td>\n",
       "      <td>6.39 × 10^23 kg (0.11 Earths)</td>\n",
       "    </tr>\n",
       "    <tr>\n",
       "      <td>3</td>\n",
       "      <td>Moons:</td>\n",
       "      <td>2 (Phobos &amp; Deimos)</td>\n",
       "    </tr>\n",
       "    <tr>\n",
       "      <td>4</td>\n",
       "      <td>Orbit Distance:</td>\n",
       "      <td>227,943,824 km (1.38 AU)</td>\n",
       "    </tr>\n",
       "    <tr>\n",
       "      <td>5</td>\n",
       "      <td>Orbit Period:</td>\n",
       "      <td>687 days (1.9 years)</td>\n",
       "    </tr>\n",
       "    <tr>\n",
       "      <td>6</td>\n",
       "      <td>Surface Temperature:</td>\n",
       "      <td>-87 to -5 °C</td>\n",
       "    </tr>\n",
       "    <tr>\n",
       "      <td>7</td>\n",
       "      <td>First Record:</td>\n",
       "      <td>2nd millennium BC</td>\n",
       "    </tr>\n",
       "    <tr>\n",
       "      <td>8</td>\n",
       "      <td>Recorded By:</td>\n",
       "      <td>Egyptian astronomers</td>\n",
       "    </tr>\n",
       "  </tbody>\n",
       "</table>\n",
       "</div>"
      ],
      "text/plain": [
       "                   Mars                          Value\n",
       "0  Equatorial Diameter:                       6,792 km\n",
       "1       Polar Diameter:                       6,752 km\n",
       "2                 Mass:  6.39 × 10^23 kg (0.11 Earths)\n",
       "3                Moons:            2 (Phobos & Deimos)\n",
       "4       Orbit Distance:       227,943,824 km (1.38 AU)\n",
       "5         Orbit Period:           687 days (1.9 years)\n",
       "6  Surface Temperature:                   -87 to -5 °C\n",
       "7         First Record:              2nd millennium BC\n",
       "8          Recorded By:           Egyptian astronomers"
      ]
     },
     "execution_count": 38,
     "metadata": {},
     "output_type": "execute_result"
    }
   ],
   "source": [
    "df.rename(columns = {0:'Mars'}, inplace = True)\n",
    "df.rename(columns = {1:'Value'}, inplace = True)\n",
    "       \n",
    "df.to_html('table.html',index=False)\n",
    "df.head(10)"
   ]
  },
  {
   "cell_type": "code",
   "execution_count": 39,
   "metadata": {},
   "outputs": [
    {
     "data": {
      "text/plain": [
       "<pymongo.results.InsertManyResult at 0x1cc269c3308>"
      ]
     },
     "execution_count": 39,
     "metadata": {},
     "output_type": "execute_result"
    }
   ],
   "source": [
    "db = client.mars_db\n",
    "collection = db.facts\n",
    "df.reset_index(inplace=True)\n",
    "collection.insert_many(df.to_dict('records'))      "
   ]
  },
  {
   "cell_type": "markdown",
   "metadata": {},
   "source": [
    "## Mars Hemispheres"
   ]
  },
  {
   "cell_type": "code",
   "execution_count": 40,
   "metadata": {},
   "outputs": [],
   "source": [
    "db = client.mars_db\n",
    "collection = db.hemisphere"
   ]
  },
  {
   "cell_type": "code",
   "execution_count": 41,
   "metadata": {},
   "outputs": [],
   "source": [
    "url = 'https://astrogeology.usgs.gov/search/results?q=hemisphere+enhanced&k1=target&v1=Mars'\n",
    "browser.visit(url)\n",
    "  "
   ]
  },
  {
   "cell_type": "code",
   "execution_count": 42,
   "metadata": {},
   "outputs": [],
   "source": [
    "html = browser.html\n",
    "soup = BeautifulSoup(html, 'html.parser')\n"
   ]
  },
  {
   "cell_type": "code",
   "execution_count": 43,
   "metadata": {},
   "outputs": [
    {
     "name": "stdout",
     "output_type": "stream",
     "text": [
      "<h3>Cerberus Hemisphere Enhanced</h3>\n"
     ]
    },
    {
     "data": {
      "text/plain": [
       "['Cerberus Hemisphere Enhanced',\n",
       " 'Schiaparelli Hemisphere Enhanced',\n",
       " 'Syrtis Major Hemisphere Enhanced',\n",
       " 'Valles Marineris Hemisphere Enhanced']"
      ]
     },
     "execution_count": 43,
     "metadata": {},
     "output_type": "execute_result"
    }
   ],
   "source": [
    "# Populate the list and get title\n",
    "hemi_title = []\n",
    "\n",
    "results = soup.find_all('h3')\n",
    "#print(results)\n",
    "\n",
    "for hemi in results:\n",
    "    hemi_title.append(hemi.text)\n",
    "print(results[0])\n",
    "hemi_title"
   ]
  },
  {
   "cell_type": "code",
   "execution_count": 44,
   "metadata": {},
   "outputs": [
    {
     "name": "stderr",
     "output_type": "stream",
     "text": [
      "C:\\ProgramData\\Anaconda3\\lib\\site-packages\\splinter\\driver\\webdriver\\__init__.py:528: FutureWarning: browser.find_link_by_partial_text is deprecated. Use browser.links.find_by_partial_text instead.\n",
      "  FutureWarning,\n"
     ]
    },
    {
     "name": "stdout",
     "output_type": "stream",
     "text": [
      "-----------\n",
      "title:  Cerberus Hemisphere Enhanced\n",
      "img_url:  http://astropedia.astrogeology.usgs.gov/download/Mars/Viking/cerberus_enhanced.tif\n",
      "-----------\n",
      "title:  Schiaparelli Hemisphere Enhanced\n",
      "img_url:  http://astropedia.astrogeology.usgs.gov/download/Mars/Viking/schiaparelli_enhanced.tif\n",
      "-----------\n",
      "title:  Syrtis Major Hemisphere Enhanced\n",
      "img_url:  http://astropedia.astrogeology.usgs.gov/download/Mars/Viking/syrtis_major_enhanced.tif\n",
      "-----------\n",
      "title:  Valles Marineris Hemisphere Enhanced\n",
      "img_url:  http://astropedia.astrogeology.usgs.gov/download/Mars/Viking/valles_marineris_enhanced.tif\n"
     ]
    }
   ],
   "source": [
    "# Initialize hemisphere_image_urls list\n",
    "hemi_image_urls = []\n",
    "browser.visit(url)\n",
    "\n",
    "# Loop through the hemisphere links to obtain the images\n",
    "for hemi in hemi_title:\n",
    "    # Initialize a dictionary for the hemisphere\n",
    "    try:\n",
    "        hemi_dict = {}\n",
    "\n",
    "        # Click on the link with the corresponding text\n",
    "        browser.click_link_by_partial_text(hemi)\n",
    "        html = browser.html\n",
    "        soup = BeautifulSoup(html, 'html.parser')\n",
    "        results = soup.find_all('div', class_='content')\n",
    "        #print(results)    \n",
    "        browser.visit(url)\n",
    "        for result in results:\n",
    "            # Identify and return URL\n",
    "            dts = result.find_all('dt')[1]\n",
    "            hemi_image = result.find_all('dd')[1].find('a')['href']\n",
    "            #print(hemi_image)\n",
    "    \n",
    "            # Run only if title and URL content \n",
    "            if (title and url):\n",
    "                # Print results\n",
    "                print(f'-----------')\n",
    "                print(f'title: ', hemi)\n",
    "                print(f'img_url: ', hemi_image)\n",
    "                post = {\n",
    "                        'title': hemi,\n",
    "                        'img_url': hemi_image\n",
    "                }\n",
    "                # Insert result into collection\n",
    "                collection.insert_one(post)\n",
    "    except Exception as e:\n",
    "      print(e)        \n"
   ]
  },
  {
   "cell_type": "code",
   "execution_count": null,
   "metadata": {},
   "outputs": [],
   "source": []
  },
  {
   "cell_type": "code",
   "execution_count": null,
   "metadata": {},
   "outputs": [],
   "source": []
  }
 ],
 "metadata": {
  "kernelspec": {
   "display_name": "Python 3",
   "language": "python",
   "name": "python3"
  },
  "language_info": {
   "codemirror_mode": {
    "name": "ipython",
    "version": 3
   },
   "file_extension": ".py",
   "mimetype": "text/x-python",
   "name": "python",
   "nbconvert_exporter": "python",
   "pygments_lexer": "ipython3",
   "version": "3.7.4"
  },
  "varInspector": {
   "cols": {
    "lenName": 16,
    "lenType": 16,
    "lenVar": 40
   },
   "kernels_config": {
    "python": {
     "delete_cmd_postfix": "",
     "delete_cmd_prefix": "del ",
     "library": "var_list.py",
     "varRefreshCmd": "print(var_dic_list())"
    },
    "r": {
     "delete_cmd_postfix": ") ",
     "delete_cmd_prefix": "rm(",
     "library": "var_list.r",
     "varRefreshCmd": "cat(var_dic_list()) "
    }
   },
   "types_to_exclude": [
    "module",
    "function",
    "builtin_function_or_method",
    "instance",
    "_Feature"
   ],
   "window_display": false
  }
 },
 "nbformat": 4,
 "nbformat_minor": 4
}
